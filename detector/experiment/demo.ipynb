{
 "cells": [
  {
   "cell_type": "code",
   "execution_count": 1,
   "metadata": {},
   "outputs": [
    {
     "name": "stdout",
     "output_type": "stream",
     "text": [
      "pygame 2.5.2 (SDL 2.28.3, Python 3.10.13)\n",
      "Hello from the pygame community. https://www.pygame.org/contribute.html\n"
     ]
    }
   ],
   "source": [
    "import cv2\n",
    "import numpy as np\n",
    "import argparse\n",
    "import matplotlib\n",
    "from ultralytics import YOLO\n",
    "import time\n",
    "import os\n",
    "from gtts import gTTS\n",
    "from playsound import playsound\n",
    "import pygame\n",
    "pygame.mixer.init()\n",
    "score=0"
   ]
  },
  {
   "cell_type": "code",
   "execution_count": 15,
   "metadata": {},
   "outputs": [],
   "source": [
    "model = YOLO(r'C:\\github\\TSDY\\src\\model\\best_model.pt')"
   ]
  },
  {
   "cell_type": "code",
   "execution_count": 3,
   "metadata": {},
   "outputs": [],
   "source": [
    "classes = []\n",
    "with open(\"classes.txt\", \"r\") as file_object:\n",
    "    for class_name in file_object.readlines():\n",
    "        class_name = class_name.strip()\n",
    "        classes.append(class_name)\n"
   ]
  },
  {
   "cell_type": "code",
   "execution_count": 4,
   "metadata": {},
   "outputs": [
    {
     "name": "stdout",
     "output_type": "stream",
     "text": [
      "['ALL_MOTOR_VEHICLE_PROHIBITED', 'AXLE_LOAD_LIMIT', 'BARRIER_AHEAD', 'BULLOCK_AND_HANDCART_PROHIBITED', 'BULLOCK_PROHIBITED', 'CATTLE', 'COMPULSARY_AHEAD', 'COMPULSARY_AHEAD_OR_TURN_LEFT', 'COMPULSARY_AHEAD_OR_TURN_RIGHT', 'COMPULSARY_CYCLE_TRACK', 'COMPULSARY_KEEP_LEFT', 'COMPULSARY_KEEP_RIGHT', 'COMPULSARY_MINIMUM_SPEED', 'COMPULSARY_SOUND_HORN', 'COMPULSARY_TURN_LEFT', 'COMPULSARY_TURN_LEFT_AHEAD', 'COMPULSARY_TURN_RIGHT', 'COMPULSARY_TURN_RIGHT_AHEAD', 'CROSS_ROAD', 'CYCLE_CROSSING', 'CYCLE_PROHIBITED', 'DANGEROUS_DIP', 'DIRECTION', 'FALLING_ROCKS', 'FERRY', 'GAP_IN_MEDIAN', 'GIVE_WAY', 'GUARDED_LEVEL_CROSSING', 'HANDCART_PROHIBITED', 'HEIGHT_LIMIT', 'HORN_PROHIBITED', 'HUMP_OR_ROUGH_ROAD', 'LEFT_HAIR_PIN_BEND', 'LEFT_HAND_CURVE', 'LEFT_REVERSE_BEND', 'LEFT_TURN_PROHIBITED', 'LENGTH_LIMIT', 'LOAD_LIMIT', 'LOOSE_GRAVEL', 'MEN_AT_WORK', 'NARROW_BRIDGE', 'NARROW_ROAD_AHEAD', 'NO_ENTRY', 'NO_PARKING', 'NO_STOPPING_OR_STANDING', 'OVERTAKING_PROHIBITED', 'PASS_EITHER_SIDE', 'PEDESTRIAN_CROSSING', 'PEDESTRIAN_PROHIBITED', 'PRIORITY_FOR_ONCOMING_VEHICLES', 'QUAY_SIDE_OR_RIVER_BANK', 'RESTRICTION_ENDS', 'RIGHT_HAIR_PIN_BEND', 'RIGHT_HAND_CURVE', 'RIGHT_REVERSE_BEND', 'RIGHT_TURN_PROHIBITED', 'ROAD_WIDENS_AHEAD', 'ROUNDABOUT', 'SCHOOL_AHEAD', 'SIDE_ROAD_LEFT', 'SIDE_ROAD_RIGHT', 'SLIPPERY_ROAD', 'SPEED_LIMIT_15', 'SPEED_LIMIT_20', 'SPEED_LIMIT_30', 'SPEED_LIMIT_40', 'SPEED_LIMIT_5', 'SPEED_LIMIT_50', 'SPEED_LIMIT_60', 'SPEED_LIMIT_70', 'SPEED_LIMIT_80', 'STAGGERED_INTERSECTION', 'STEEP_ASCENT', 'STEEP_DESCENT', 'STOP', 'STRAIGHT_PROHIBITED', 'TONGA_PROHIBITED', 'TRAFFIC_SIGNAL', 'TRUCK_PROHIBITED', 'TURN_RIGHT', 'T_INTERSECTION', 'UNGUARDED_LEVEL_CROSSING', 'U_TURN_PROHIBITED', 'WIDTH_LIMIT', 'Y_INTERSECTION']\n"
     ]
    }
   ],
   "source": [
    "print(classes)"
   ]
  },
  {
   "cell_type": "code",
   "execution_count": 5,
   "metadata": {},
   "outputs": [
    {
     "data": {
      "text/plain": [
       "True"
      ]
     },
     "execution_count": 5,
     "metadata": {},
     "output_type": "execute_result"
    }
   ],
   "source": [
    "# Initialize camera\n",
    "cam = cv2.VideoCapture(0)\n",
    "cam.set(cv2.CAP_PROP_FRAME_WIDTH, 1280)\n",
    "cam.set(cv2.CAP_PROP_FRAME_HEIGHT, 720)\n",
    "# Full HD\n",
    "\n"
   ]
  },
  {
   "cell_type": "code",
   "execution_count": 16,
   "metadata": {},
   "outputs": [
    {
     "name": "stdout",
     "output_type": "stream",
     "text": [
      "\n",
      "0: 640x640 1 HUMP_OR_ROUGH_ROAD, 480.7ms\n",
      "1: 640x640 1 NARROW_ROAD_AHEAD, 480.7ms\n",
      "2: 640x640 1 NARROW_ROAD_AHEAD, 480.7ms\n",
      "3: 640x640 1 COMPULSARY_AHEAD_OR_TURN_LEFT, 1 COMPULSARY_AHEAD_OR_TURN_RIGHT, 480.7ms\n",
      "Speed: 15.3ms preprocess, 480.7ms inference, 6.5ms postprocess per image at shape (1, 3, 640, 640)\n"
     ]
    }
   ],
   "source": [
    "# Run batched inference on a list of images\n",
    "results = model([r\"C:\\github\\TSDY\\sample\\hump.jpg\",r'C:\\github\\TSDY\\sample\\narroe road.jpg', r'C:\\github\\TSDY\\sample\\original.jpg',r\"C:\\github\\TSDY\\sample\\thumb.jpg\",])  # return a list of Results objects\n",
    "\n",
    "# Process results list\n",
    "for result in results:\n",
    "    boxes = result.boxes  # Boxes object for bounding box outputs\n",
    "    masks = result.masks  # Masks object for segmentation masks outputs\n",
    "    keypoints = result.keypoints  # Keypoints object for pose outputs\n",
    "    probs = result.probs  # Probs object for classification outputs\n",
    "    result.show()  # display to screen\n",
    "    result.save(filename='result.jpg')  # save to disk"
   ]
  },
  {
   "cell_type": "code",
   "execution_count": 1,
   "metadata": {},
   "outputs": [
    {
     "name": "stdout",
     "output_type": "stream",
     "text": [
      "pygame 2.5.2 (SDL 2.28.3, Python 3.10.13)\n",
      "Hello from the pygame community. https://www.pygame.org/contribute.html\n"
     ]
    }
   ],
   "source": [
    "import os\n",
    "import pygame\n",
    "import logging\n",
    "\n",
    "# Constants\n",
    "AUDIO_FOLDER = r\".\\src\\audio\"  # Path to the audio folder\n",
    "\n",
    "# Initialize pygame mixer\n",
    "pygame.mixer.init()\n",
    "\n",
    "\n",
    "def play_audio(class_name):\n",
    "    \"\"\"\n",
    "    Play audio corresponding to the detected class name.\n",
    "\n",
    "    Parameters:\n",
    "        class_name (str): The detected class name.\n",
    "\n",
    "    Returns:\n",
    "        None\n",
    "    \"\"\"\n",
    "    # Replace underscores with spaces\n",
    "    class_name = class_name.replace(\"_\", \" \")\n",
    "\n",
    "    # Generate audio file name\n",
    "    audio_file = os.path.join(AUDIO_FOLDER, class_name + \".mp3\")\n",
    "\n",
    "    # Check if audio file exists\n",
    "    if not os.path.isfile(audio_file):\n",
    "        logging.error(f\"Audio file not found for class: {class_name}\")\n",
    "        return\n",
    "\n",
    "    # Load and play the audio file\n",
    "    pygame.mixer.music.load(audio_file)\n",
    "    pygame.mixer.music.play()"
   ]
  },
  {
   "cell_type": "code",
   "execution_count": 2,
   "metadata": {},
   "outputs": [
    {
     "name": "stderr",
     "output_type": "stream",
     "text": [
      "ERROR:root:Audio file not found for class: class name\n"
     ]
    }
   ],
   "source": [
    "play_audio(\"class_name\")"
   ]
  },
  {
   "cell_type": "code",
   "execution_count": 25,
   "metadata": {},
   "outputs": [],
   "source": [
    "import os\n",
    "import pygame\n",
    "import logging\n",
    "from gtts import gTTS\n",
    "\n",
    "# Constants\n",
    "AUDIO_FOLDER = \".\\src\\audio\"  # Path to the audio folder\n",
    "\n",
    "# Initialize pygame mixer\n",
    "pygame.mixer.init()\n",
    "\n",
    "# Configure logging\n",
    "LOGS_FOLDER = \"logs\"\n",
    "LOG_FILE = os.path.join(LOGS_FOLDER, \"audio_player.log\")\n",
    "os.makedirs(LOGS_FOLDER, exist_ok=True)\n",
    "\n",
    "logging.basicConfig(filename=LOG_FILE, level=logging.DEBUG,\n",
    "                    format='%(asctime)s - %(levelname)s - %(message)s')\n",
    "\n",
    "def play_audio(class_name):\n",
    "    \"\"\"\n",
    "    Play audio corresponding to the detected class name.\n",
    "\n",
    "    Parameters:\n",
    "        class_name (str): The detected class name.\n",
    "\n",
    "    Returns:\n",
    "        None\n",
    "    \"\"\"\n",
    "    try:\n",
    "        # Replace underscores with spaces\n",
    "        class_name = class_name.replace(\"_\", \" \")\n",
    "\n",
    "        # Generate audio file name\n",
    "        audio_file = class_name + \".mp3\"\n",
    "\n",
    "        # Check if audio file exists\n",
    "        if not os.path.isfile(audio_file):\n",
    "            # If the audio file does not exist, generate it using gTTS\n",
    "            tts_text = class_name + \" a head\"\n",
    "            tts = gTTS(text=tts_text, lang='en')\n",
    "            tts.save(audio_file)\n",
    "\n",
    "        # Load and play the audio file\n",
    "        pygame.mixer.music.load(audio_file)\n",
    "        pygame.mixer.music.play()\n",
    "\n",
    "        # Wait for audio to finish playing\n",
    "        while pygame.mixer.music.get_busy():\n",
    "            pygame.time.Clock().tick(10)  # Adjust tick rate as needed\n",
    "\n",
    "        # Stop the mixer\n",
    "        pygame.mixer.music.stop()\n",
    "\n",
    "    except Exception as e:\n",
    "        print(f\"Error occurred during audio playback: {e}\")\n"
   ]
  },
  {
   "cell_type": "code",
   "execution_count": 26,
   "metadata": {},
   "outputs": [],
   "source": [
    "play_audio(\"cat\")\n"
   ]
  },
  {
   "cell_type": "code",
   "execution_count": 33,
   "metadata": {},
   "outputs": [],
   "source": [
    "import os\n",
    "import pygame\n",
    "import logging\n",
    "from gtts import gTTS\n",
    "\n",
    "# Initialize pygame mixer\n",
    "pygame.mixer.init()\n",
    "\n",
    "def play_audio(class_name):\n",
    "    \"\"\"\n",
    "    Play audio corresponding to the detected class name and move it to the audio_name folder.\n",
    "\n",
    "    Parameters:\n",
    "        class_name (str): The detected class name.\n",
    "\n",
    "    Returns:\n",
    "        None\n",
    "    \"\"\"\n",
    "    try:\n",
    "        # Replace underscores with spaces\n",
    "        class_name = class_name.replace(\"_\", \" \")\n",
    "\n",
    "        # Generate audio file name\n",
    "        audio_file = class_name + \".mp3\"\n",
    "\n",
    "        # Check if audio file exists\n",
    "        if not os.path.isfile(audio_file):\n",
    "            # If the audio file does not exist, generate it using gTTS\n",
    "            tts_text = class_name + \" a head\"\n",
    "            tts = gTTS(text=tts_text, lang='en')\n",
    "            tts.save(audio_file)\n",
    "\n",
    "        # Load and play the audio file\n",
    "        pygame.mixer.music.load(audio_file)\n",
    "        pygame.mixer.music.play()\n",
    "\n",
    "        # Wait for audio to finish playing\n",
    "        while pygame.mixer.music.get_busy():\n",
    "            pygame.time.Clock().tick(10)  # Adjust tick rate as needed\n",
    "\n",
    "        # Stop the mixer\n",
    "        pygame.mixer.music.stop()\n",
    "\n",
    "        # Move the audio file to the audio_name folder\n",
    "        destination_folder = r\"C:\\github\\TSDY\\src\\audio\"\n",
    "        if not os.path.exists(destination_folder):\n",
    "            os.makedirs(destination_folder)\n",
    "        os.rename(audio_file, os.path.join(destination_folder, audio_file))\n",
    "\n",
    "    except Exception as e:\n",
    "        print(f\"Error occurred during audio playback: {e}\")\n"
   ]
  },
  {
   "cell_type": "code",
   "execution_count": 34,
   "metadata": {},
   "outputs": [
    {
     "name": "stdout",
     "output_type": "stream",
     "text": [
      "Error occurred during audio playback: [WinError 32] The process cannot access the file because it is being used by another process: 'raj.mp3' -> 'C:\\\\github\\\\TSDY\\\\src\\\\audio\\\\raj.mp3'\n"
     ]
    }
   ],
   "source": [
    "play_audio(\"raj\")"
   ]
  },
  {
   "cell_type": "code",
   "execution_count": 22,
   "metadata": {},
   "outputs": [],
   "source": [
    "\n",
    "def play_audio(class_name):\n",
    "    \"\"\"\n",
    "    Play audio corresponding to the detected class name.\n",
    "\n",
    "    Parameters:\n",
    "        class_name (str): The detected class name.\n",
    "\n",
    "    Returns:\n",
    "        None\n",
    "    \"\"\"\n",
    "    try:\n",
    "        # Replace underscores with spaces\n",
    "        class_name = class_name.replace(\"_\", \" \")\n",
    "\n",
    "        # Generate audio text\n",
    "        tts_text = class_name + \" a head\"\n",
    "\n",
    "        # Create a temporary file to store the audio\n",
    "        with tempfile.NamedTemporaryFile(suffix=\".mp3\", delete=False) as temp_audio:\n",
    "            # Generate audio using gTTS and save it to the temporary file\n",
    "            tts = gTTS(text=tts_text, lang='en', slow=True)\n",
    "            tts.write_to_fp(temp_audio)\n",
    "\n",
    "            # Close the temporary file to release its handle\n",
    "            temp_audio.close()\n",
    "\n",
    "            # Load and play the audio file\n",
    "            pygame.mixer.music.load(temp_audio.name)\n",
    "            pygame.mixer.music.play()\n",
    "\n",
    "            # Wait for audio to finish playing\n",
    "            while pygame.mixer.music.get_busy():\n",
    "                pygame.time.Clock().tick(10)  # Adjust tick rate as needed\n",
    "\n",
    "        # Remove the temporary file after it has been closed\n",
    "        os.unlink(temp_audio.name)\n",
    "\n",
    "    except Exception as e:\n",
    "        print(f\"Error occurred during audio playback: {e}\")\n"
   ]
  },
  {
   "cell_type": "code",
   "execution_count": 6,
   "metadata": {},
   "outputs": [
    {
     "name": "stdout",
     "output_type": "stream",
     "text": [
      "2\n"
     ]
    }
   ],
   "source": [
    "def max_tree_height(N, glasses):\n",
    "    glasses.sort(reverse=True)  # Step 1: Sort the array in descending order\n",
    "\n",
    "    height = 0  # Step 2: Initialize variables\n",
    "    max_height = 0\n",
    "\n",
    "    for water in glasses:  # Step 3: Iterate through the sorted array\n",
    "        if water > height:  # If the amount of water is greater than the current height\n",
    "            height += water  # Increment the height of the tree by the amount of water\n",
    "            max_height = max(max_height, height)  # Update max_height if needed\n",
    "\n",
    "    return max_height  # Step 4: Return the maximum height achieved\n",
    "\n",
    "# Main function to take input from the system\n",
    "def main():\n",
    "    N = int(input().strip())  # Read the number of glasses\n",
    "    glasses = list(map(int, input().strip().split()))  # Read the amounts of water in each glass\n",
    "\n",
    "    max_height = max_tree_height(N, glasses)\n",
    "    print(max_height)  # Print the maximum possible height of the tree\n",
    "\n",
    "main()"
   ]
  },
  {
   "cell_type": "code",
   "execution_count": 8,
   "metadata": {},
   "outputs": [
    {
     "name": "stdout",
     "output_type": "stream",
     "text": [
      "4\n"
     ]
    }
   ],
   "source": [
    "import math\n",
    "import sys\n",
    "\n",
    "def count_frequency(song):\n",
    "    frequency = {}\n",
    "    for char in song:\n",
    "        if char in frequency:\n",
    "            frequency[char] += 1\n",
    "        else:\n",
    "            frequency[char] = 1\n",
    "    return frequency\n",
    "\n",
    "def find_max_frequency(frequency):\n",
    "    max_frequency = max(frequency.values())\n",
    "    return max_frequency\n",
    "\n",
    "def calculate_minimum_days(song, max_frequency):\n",
    "    return math.ceil(len(song) / max_frequency)\n",
    "\n",
    "def minimum_days_to_teach_song(song):\n",
    "    # Step 1: Count the Frequency of Each Character\n",
    "    frequency = count_frequency(song)\n",
    "    \n",
    "    # Step 2: Find the Maximum Frequency\n",
    "    max_frequency = find_max_frequency(frequency)\n",
    "    \n",
    "    # Step 3: Calculate the Minimum Number of Days\n",
    "    minimum_days = calculate_minimum_days(song, max_frequency)\n",
    "    \n",
    "    return minimum_days\n",
    "\n",
    "\n",
    "song = input().strip()\n",
    "print(minimum_days_to_teach_song(song))"
   ]
  },
  {
   "cell_type": "code",
   "execution_count": null,
   "metadata": {},
   "outputs": [],
   "source": []
  }
 ],
 "metadata": {
  "kernelspec": {
   "display_name": "yolo",
   "language": "python",
   "name": "python3"
  },
  "language_info": {
   "codemirror_mode": {
    "name": "ipython",
    "version": 3
   },
   "file_extension": ".py",
   "mimetype": "text/x-python",
   "name": "python",
   "nbconvert_exporter": "python",
   "pygments_lexer": "ipython3",
   "version": "3.10.13"
  }
 },
 "nbformat": 4,
 "nbformat_minor": 2
}
